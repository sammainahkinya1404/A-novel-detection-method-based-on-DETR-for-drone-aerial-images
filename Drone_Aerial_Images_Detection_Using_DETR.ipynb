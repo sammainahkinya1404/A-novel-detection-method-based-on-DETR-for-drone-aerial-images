{
  "nbformat": 4,
  "nbformat_minor": 0,
  "metadata": {
    "colab": {
      "provenance": [],
      "authorship_tag": "ABX9TyMk/XjE4Lsi8FkXkiTG2Rmq",
      "include_colab_link": true
    },
    "kernelspec": {
      "name": "python3",
      "display_name": "Python 3"
    },
    "language_info": {
      "name": "python"
    }
  },
  "cells": [
    {
      "cell_type": "markdown",
      "metadata": {
        "id": "view-in-github",
        "colab_type": "text"
      },
      "source": [
        "<a href=\"https://colab.research.google.com/github/sammainahkinya1404/A-novel-detection-method-based-on-DETR-for-drone-aerial-images/blob/main/Drone_Aerial_Images_Detection_Using_DETR.ipynb\" target=\"_parent\"><img src=\"https://colab.research.google.com/assets/colab-badge.svg\" alt=\"Open In Colab\"/></a>"
      ]
    },
    {
      "cell_type": "code",
      "source": [
        "from google.colab import drive\n",
        "drive.mount('/content/drive')"
      ],
      "metadata": {
        "colab": {
          "base_uri": "https://localhost:8080/"
        },
        "id": "_L_cDhV5dw31",
        "outputId": "89c6be1a-e6cc-4f87-8fde-9c3bec34db8e"
      },
      "execution_count": 3,
      "outputs": [
        {
          "output_type": "stream",
          "name": "stdout",
          "text": [
            "Mounted at /content/drive\n"
          ]
        }
      ]
    },
    {
      "cell_type": "code",
      "source": [
        "import os\n",
        "import json\n",
        "import urllib.request\n",
        "from zipfile import ZipFile\n",
        "from pathlib import Path\n"
      ],
      "metadata": {
        "id": "PQo7aFK3-pEU"
      },
      "execution_count": 4,
      "outputs": []
    },
    {
      "cell_type": "code",
      "source": [
        "# function to downlaod from github extract images from zip file\n",
        "def download_extract_images(urls, extract_dir):\n",
        "    os.makedirs(extract_dir, exist_ok=True)\n",
        "    for url in urls:\n",
        "        file_name = url.split('/')[-1]\n",
        "        file_path = os.path.join(extract_dir, file_name)\n",
        "        urllib.request.urlretrieve(url, file_path)\n",
        "        with ZipFile(file_path, 'r') as zip_ref:\n",
        "            zip_ref.extractall(extract_dir)\n",
        "        os.remove(file_path)"
      ],
      "metadata": {
        "id": "hi8lLQ34-rRT"
      },
      "execution_count": 5,
      "outputs": []
    },
    {
      "cell_type": "code",
      "source": [
        "# Function to convert annotations of the Images into COCO format\n",
        "def convert_annotations_to_coco_format(annotation_dir, output_dir):\n",
        "    os.makedirs(output_dir, exist_ok=True)\n",
        "    for file_name in os.listdir(annotation_dir):\n",
        "        if file_name.endswith('.txt'):\n",
        "            annotations = []\n",
        "            image_id = 0\n",
        "            with open(os.path.join(annotation_dir, file_name), 'r') as f:\n",
        "                for line in f.readlines():\n",
        "                    values = line.strip().split()\n",
        "                    if len(values) > 0:\n",
        "                        category_id = int(values[0])\n",
        "                        bbox = list(map(float, values[1:]))\n",
        "                        annotations.append({\n",
        "                            \"id\": len(annotations),\n",
        "                            \"image_id\": image_id,\n",
        "                            \"category_id\": category_id,\n",
        "                            \"bbox\": bbox,\n",
        "                            \"area\": bbox[2] * bbox[3],\n",
        "                            \"iscrowd\": 0\n",
        "                        })\n",
        "            coco_format = {\n",
        "                \"images\": [{\"id\": 0, \"file_name\": file_name.replace('.txt', '.jpg')}],\n",
        "                \"annotations\": annotations,\n",
        "                \"categories\": [{\"id\": 0, \"name\": \"object\"}]\n",
        "            }\n",
        "            output_file_path = os.path.join(output_dir, file_name.replace('.txt', '.json'))\n",
        "            with open(output_file_path, 'w') as f:\n",
        "                json.dump(coco_format, f)"
      ],
      "metadata": {
        "id": "BkSd0gS8_Hx4"
      },
      "execution_count": 6,
      "outputs": []
    },
    {
      "cell_type": "code",
      "source": [
        "# Define paths to store Data Images\n",
        "dataset_root = Path('/content/drive/MyDrive/Colab Notebooks/')\n",
        "download_dir = dataset_root / \"downloaded_images\"\n",
        "annotation_dir = dataset_root / \"annotations\"\n",
        "output_dir = dataset_root / \"coco_annotations\"\n"
      ],
      "metadata": {
        "id": "O3W0qO_G_cz2"
      },
      "execution_count": 8,
      "outputs": []
    },
    {
      "cell_type": "code",
      "source": [
        "annotation_dir = dataset_root / \"annotations\"\n",
        "os.makedirs(annotation_dir, exist_ok=True)  # Ensure the annotations directory exists\n",
        "output_dir = dataset_root / \"coco_annotations\""
      ],
      "metadata": {
        "id": "ma92n8XfBHpm"
      },
      "execution_count": 12,
      "outputs": []
    },
    {
      "cell_type": "code",
      "source": [
        "# Define URLs for the data\n",
        "urls = [\n",
        "    'https://github.com/ultralytics/yolov5/releases/download/v1.0/VisDrone2019-DET-train.zip',\n",
        "    'https://github.com/ultralytics/yolov5/releases/download/v1.0/VisDrone2019-DET-val.zip',\n",
        "    'https://github.com/ultralytics/yolov5/releases/download/v1.0/VisDrone2019-DET-test-dev.zip',\n",
        "    'https://github.com/ultralytics/yolov5/releases/download/v1.0/VisDrone2019-DET-test-challenge.zip'\n",
        "]\n"
      ],
      "metadata": {
        "id": "aFg8ONg6_iN8"
      },
      "execution_count": 9,
      "outputs": []
    },
    {
      "cell_type": "code",
      "source": [
        "# Download and extract images\n",
        "download_extract_images(urls, download_dir)"
      ],
      "metadata": {
        "id": "GwTRvt8j_rK5"
      },
      "execution_count": 10,
      "outputs": []
    },
    {
      "cell_type": "code",
      "source": [
        "\n",
        "\n",
        "\n",
        "# Convert annotations to COCO format\n",
        "convert_annotations_to_coco_format(annotation_dir, output_dir)\n"
      ],
      "metadata": {
        "id": "7KebvxbRfSyD"
      },
      "execution_count": 13,
      "outputs": []
    },
    {
      "cell_type": "markdown",
      "source": [
        "The Tasks Was Trained using The Orignal DETR model,which is What am Going to do,here is the Bulding Blocks of the Original DETR:\n",
        "\n",
        "\n",
        "**1.ResNet-50 Backbone**\n",
        "\n",
        "\n",
        "\n",
        "**2.Transformer Encoder**\n",
        "\n",
        "\n",
        "**3.Transformer Decoder**\n",
        "\n",
        "**4.Prediction Feed Forward Network[FFN]**"
      ],
      "metadata": {
        "id": "vwObuwydFt03"
      }
    },
    {
      "cell_type": "code",
      "source": [
        "# Install all Libraries Needed\n",
        "!pip install -q datasets transformers evaluate timm albumentations"
      ],
      "metadata": {
        "colab": {
          "base_uri": "https://localhost:8080/"
        },
        "id": "Btt8ONBiHUKQ",
        "outputId": "11634c0c-bace-4250-e115-0380a2293a0f"
      },
      "execution_count": 14,
      "outputs": [
        {
          "output_type": "stream",
          "name": "stdout",
          "text": [
            "\u001b[2K     \u001b[90m━━━━━━━━━━━━━━━━━━━━━━━━━━━━━━━━━━━━━━━━\u001b[0m \u001b[32m536.7/536.7 kB\u001b[0m \u001b[31m6.4 MB/s\u001b[0m eta \u001b[36m0:00:00\u001b[0m\n",
            "\u001b[2K     \u001b[90m━━━━━━━━━━━━━━━━━━━━━━━━━━━━━━━━━━━━━━━━\u001b[0m \u001b[32m84.1/84.1 kB\u001b[0m \u001b[31m8.9 MB/s\u001b[0m eta \u001b[36m0:00:00\u001b[0m\n",
            "\u001b[2K     \u001b[90m━━━━━━━━━━━━━━━━━━━━━━━━━━━━━━━━━━━━━━━━\u001b[0m \u001b[32m2.2/2.2 MB\u001b[0m \u001b[31m10.4 MB/s\u001b[0m eta \u001b[36m0:00:00\u001b[0m\n",
            "\u001b[2K     \u001b[90m━━━━━━━━━━━━━━━━━━━━━━━━━━━━━━━━━━━━━━━━\u001b[0m \u001b[32m116.3/116.3 kB\u001b[0m \u001b[31m14.1 MB/s\u001b[0m eta \u001b[36m0:00:00\u001b[0m\n",
            "\u001b[2K     \u001b[90m━━━━━━━━━━━━━━━━━━━━━━━━━━━━━━━━━━━━━━━━\u001b[0m \u001b[32m134.8/134.8 kB\u001b[0m \u001b[31m13.3 MB/s\u001b[0m eta \u001b[36m0:00:00\u001b[0m\n",
            "\u001b[?25h"
          ]
        }
      ]
    },
    {
      "cell_type": "code",
      "source": [
        "from datasets import load_dataset\n"
      ],
      "metadata": {
        "id": "n5LPcnfGHs6-"
      },
      "execution_count": 15,
      "outputs": []
    }
  ]
}