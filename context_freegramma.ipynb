{
  "cells": [
    {
      "cell_type": "markdown",
      "metadata": {
        "id": "view-in-github",
        "colab_type": "text"
      },
      "source": [
        "<a href=\"https://colab.research.google.com/github/sammainahkinya1404/A-novel-detection-method-based-on-DETR-for-drone-aerial-images/blob/main/context_freegramma.ipynb\" target=\"_parent\"><img src=\"https://colab.research.google.com/assets/colab-badge.svg\" alt=\"Open In Colab\"/></a>"
      ]
    },
    {
      "cell_type": "code",
      "source": [
        "!pip install nltk"
      ],
      "metadata": {
        "colab": {
          "base_uri": "https://localhost:8080/"
        },
        "id": "GTcZqoALxhN7",
        "outputId": "5cb878f6-5b1e-4764-e2b3-d49f38016ebf"
      },
      "id": "GTcZqoALxhN7",
      "execution_count": 21,
      "outputs": [
        {
          "output_type": "stream",
          "name": "stdout",
          "text": [
            "Requirement already satisfied: nltk in /usr/local/lib/python3.10/dist-packages (3.8.1)\n",
            "Requirement already satisfied: click in /usr/local/lib/python3.10/dist-packages (from nltk) (8.1.7)\n",
            "Requirement already satisfied: joblib in /usr/local/lib/python3.10/dist-packages (from nltk) (1.4.2)\n",
            "Requirement already satisfied: regex>=2021.8.3 in /usr/local/lib/python3.10/dist-packages (from nltk) (2023.12.25)\n",
            "Requirement already satisfied: tqdm in /usr/local/lib/python3.10/dist-packages (from nltk) (4.66.4)\n"
          ]
        }
      ]
    },
    {
      "cell_type": "code",
      "execution_count": 10,
      "id": "5c5e5dea-a157-4b56-a6d9-5db108afbc22",
      "metadata": {
        "id": "5c5e5dea-a157-4b56-a6d9-5db108afbc22"
      },
      "outputs": [],
      "source": [
        "import nltk\n",
        "from nltk.tree import Tree\n",
        "from nltk.draw import tree\n",
        "from nltk import CFG"
      ]
    },
    {
      "cell_type": "code",
      "execution_count": 11,
      "id": "c42fea29-30b7-4af7-a39c-c605d1300cd0",
      "metadata": {
        "id": "c42fea29-30b7-4af7-a39c-c605d1300cd0"
      },
      "outputs": [],
      "source": [
        "groucho_grammar = nltk.CFG.fromstring(\"\"\"\n",
        "S -> NP VP\n",
        "PP -> P NP\n",
        "NP -> Det N | Det N PP | 'I'\n",
        "VP -> V NP | VP PP\n",
        "Det -> 'an' | 'my'\n",
        "N -> 'elephant' | 'pajamas'\n",
        "V -> 'shot'\n",
        "P -> 'in'\n",
        "\"\"\")\n"
      ]
    },
    {
      "cell_type": "code",
      "execution_count": 12,
      "id": "2d551b57-bd84-40ed-8916-9a4fb0540837",
      "metadata": {
        "id": "2d551b57-bd84-40ed-8916-9a4fb0540837"
      },
      "outputs": [],
      "source": [
        "grammar = CFG.fromstring(\"\"\"\n",
        "S -> NP VP\n",
        "PP -> P NP\n",
        "NP -> Det N | NP PP\n",
        "VP -> V NP | VP PP\n",
        "Det -> 'a' | 'the'\n",
        "N -> 'dog' | 'cat'\n",
        "V -> 'chased' | 'sat'\n",
        "P -> 'on' | 'in'\n",
        " \"\"\")"
      ]
    },
    {
      "cell_type": "code",
      "execution_count": 13,
      "id": "72378ef1-83ba-4e3d-bd94-2322ed8afb6e",
      "metadata": {
        "colab": {
          "base_uri": "https://localhost:8080/"
        },
        "id": "72378ef1-83ba-4e3d-bd94-2322ed8afb6e",
        "outputId": "330f315a-729c-4ae3-f0aa-c77f9e069904"
      },
      "outputs": [
        {
          "output_type": "stream",
          "name": "stdout",
          "text": [
            "Grammar with 13 productions (start state = S)\n",
            "    S -> NP VP\n",
            "    PP -> P NP\n",
            "    NP -> Det N\n",
            "    NP -> Det N PP\n",
            "    NP -> 'I'\n",
            "    VP -> V NP\n",
            "    VP -> VP PP\n",
            "    Det -> 'an'\n",
            "    Det -> 'my'\n",
            "    N -> 'elephant'\n",
            "    N -> 'pajamas'\n",
            "    V -> 'shot'\n",
            "    P -> 'in'\n"
          ]
        }
      ],
      "source": [
        "print(groucho_grammar)"
      ]
    },
    {
      "cell_type": "code",
      "source": [
        "print(grammar)"
      ],
      "metadata": {
        "colab": {
          "base_uri": "https://localhost:8080/"
        },
        "id": "6QLOeENMwZJb",
        "outputId": "9cf413d2-16da-40f9-beb1-b96dba606261"
      },
      "id": "6QLOeENMwZJb",
      "execution_count": 14,
      "outputs": [
        {
          "output_type": "stream",
          "name": "stdout",
          "text": [
            "Grammar with 14 productions (start state = S)\n",
            "    S -> NP VP\n",
            "    PP -> P NP\n",
            "    NP -> Det N\n",
            "    NP -> NP PP\n",
            "    VP -> V NP\n",
            "    VP -> VP PP\n",
            "    Det -> 'a'\n",
            "    Det -> 'the'\n",
            "    N -> 'dog'\n",
            "    N -> 'cat'\n",
            "    V -> 'chased'\n",
            "    V -> 'sat'\n",
            "    P -> 'on'\n",
            "    P -> 'in'\n"
          ]
        }
      ]
    },
    {
      "cell_type": "code",
      "execution_count": 5,
      "id": "20525379-0574-40d4-9d28-8c7596d3c349",
      "metadata": {
        "colab": {
          "base_uri": "https://localhost:8080/"
        },
        "id": "20525379-0574-40d4-9d28-8c7596d3c349",
        "outputId": "1ca5962a-4a91-45a6-f24c-49e2ef3d6c5d"
      },
      "outputs": [
        {
          "output_type": "execute_result",
          "data": {
            "text/plain": [
              "[NP -> Det N, NP -> Det N PP, NP -> 'I']"
            ]
          },
          "metadata": {},
          "execution_count": 5
        }
      ],
      "source": [
        "from nltk.grammar import *\n",
        "groucho_grammar.productions(lhs=Nonterminal(\"NP\"))"
      ]
    },
    {
      "cell_type": "code",
      "execution_count": 6,
      "id": "9a654a17-3e6e-4463-8010-a5442a711cd5",
      "metadata": {
        "colab": {
          "base_uri": "https://localhost:8080/"
        },
        "id": "9a654a17-3e6e-4463-8010-a5442a711cd5",
        "outputId": "27d17572-ee47-430a-be39-af24eb3d62ab"
      },
      "outputs": [
        {
          "output_type": "execute_result",
          "data": {
            "text/plain": [
              "[NP -> Det N, NP -> Det N PP]"
            ]
          },
          "metadata": {},
          "execution_count": 6
        }
      ],
      "source": [
        "groucho_grammar.productions(rhs=Nonterminal(\"Det\"))"
      ]
    },
    {
      "cell_type": "code",
      "execution_count": 7,
      "id": "bd494490-4ef1-4f54-9f3e-926302631bc6",
      "metadata": {
        "colab": {
          "base_uri": "https://localhost:8080/"
        },
        "id": "bd494490-4ef1-4f54-9f3e-926302631bc6",
        "outputId": "f5458c72-3d6b-42a9-fe2f-354b107699be"
      },
      "outputs": [
        {
          "output_type": "stream",
          "name": "stdout",
          "text": [
            "(S\n",
            "  (NP I)\n",
            "  (VP\n",
            "    (VP (V shot) (NP (Det an) (N elephant)))\n",
            "    (PP (P in) (NP (Det my) (N pajamas)))))\n"
          ]
        }
      ],
      "source": [
        "sent = ['I', 'shot', 'an', 'elephant', 'in', 'my', 'pajamas']\n",
        "parser = nltk.ChartParser(groucho_grammar)\n",
        "trees = list(parser.parse(sent))\n",
        "print(trees [0])"
      ]
    },
    {
      "cell_type": "code",
      "execution_count": 8,
      "id": "13253f26-7c0e-4c97-b71a-cef12c45e0a4",
      "metadata": {
        "colab": {
          "base_uri": "https://localhost:8080/"
        },
        "id": "13253f26-7c0e-4c97-b71a-cef12c45e0a4",
        "outputId": "7ad67ea8-71a3-405a-f57f-07374140a0d0"
      },
      "outputs": [
        {
          "output_type": "stream",
          "name": "stdout",
          "text": [
            "(S\n",
            "  (NP I)\n",
            "  (VP\n",
            "    (VP (V shot) (NP (Det an) (N elephant)))\n",
            "    (PP (P in) (NP (Det my) (N pajamas)))))\n",
            "(S\n",
            "  (NP I)\n",
            "  (VP\n",
            "    (V shot)\n",
            "    (NP (Det an) (N elephant) (PP (P in) (NP (Det my) (N pajamas))))))\n"
          ]
        }
      ],
      "source": [
        "for tree in parser.parse(sent):\n",
        "      print(tree)"
      ]
    },
    {
      "cell_type": "code",
      "execution_count": 9,
      "id": "c3b6517a-03be-4f7e-8ae6-983ea9b59301",
      "metadata": {
        "colab": {
          "base_uri": "https://localhost:8080/",
          "height": 321
        },
        "id": "c3b6517a-03be-4f7e-8ae6-983ea9b59301",
        "outputId": "d6c067b7-20c6-4ae8-fe4d-79af4fd45bc5"
      },
      "outputs": [
        {
          "output_type": "error",
          "ename": "TclError",
          "evalue": "no display name and no $DISPLAY environment variable",
          "traceback": [
            "\u001b[0;31m---------------------------------------------------------------------------\u001b[0m",
            "\u001b[0;31mTclError\u001b[0m                                  Traceback (most recent call last)",
            "\u001b[0;32m<ipython-input-9-1620f9427b47>\u001b[0m in \u001b[0;36m<cell line: 3>\u001b[0;34m()\u001b[0m\n\u001b[1;32m      1\u001b[0m \u001b[0;31m# expect a pop up menu\u001b[0m\u001b[0;34m\u001b[0m\u001b[0;34m\u001b[0m\u001b[0m\n\u001b[1;32m      2\u001b[0m \u001b[0mtree\u001b[0m \u001b[0;34m=\u001b[0m \u001b[0mTree\u001b[0m\u001b[0;34m.\u001b[0m\u001b[0mfromstring\u001b[0m\u001b[0;34m(\u001b[0m\u001b[0;34m\"(S(NP I)(VP(VP (V shot) (NP (Det an) (N elephant)))(PP (P in) (NP (Det my) (N pajamas)))))\"\u001b[0m\u001b[0;34m)\u001b[0m\u001b[0;34m\u001b[0m\u001b[0;34m\u001b[0m\u001b[0m\n\u001b[0;32m----> 3\u001b[0;31m \u001b[0mtree\u001b[0m\u001b[0;34m.\u001b[0m\u001b[0mdraw\u001b[0m\u001b[0;34m(\u001b[0m\u001b[0;34m)\u001b[0m\u001b[0;34m\u001b[0m\u001b[0;34m\u001b[0m\u001b[0m\n\u001b[0m",
            "\u001b[0;32m/usr/local/lib/python3.10/dist-packages/nltk/tree/tree.py\u001b[0m in \u001b[0;36mdraw\u001b[0;34m(self)\u001b[0m\n\u001b[1;32m    759\u001b[0m         \u001b[0;32mfrom\u001b[0m \u001b[0mnltk\u001b[0m\u001b[0;34m.\u001b[0m\u001b[0mdraw\u001b[0m\u001b[0;34m.\u001b[0m\u001b[0mtree\u001b[0m \u001b[0;32mimport\u001b[0m \u001b[0mdraw_trees\u001b[0m\u001b[0;34m\u001b[0m\u001b[0;34m\u001b[0m\u001b[0m\n\u001b[1;32m    760\u001b[0m \u001b[0;34m\u001b[0m\u001b[0m\n\u001b[0;32m--> 761\u001b[0;31m         \u001b[0mdraw_trees\u001b[0m\u001b[0;34m(\u001b[0m\u001b[0mself\u001b[0m\u001b[0;34m)\u001b[0m\u001b[0;34m\u001b[0m\u001b[0;34m\u001b[0m\u001b[0m\n\u001b[0m\u001b[1;32m    762\u001b[0m \u001b[0;34m\u001b[0m\u001b[0m\n\u001b[1;32m    763\u001b[0m     \u001b[0;32mdef\u001b[0m \u001b[0mpretty_print\u001b[0m\u001b[0;34m(\u001b[0m\u001b[0mself\u001b[0m\u001b[0;34m,\u001b[0m \u001b[0msentence\u001b[0m\u001b[0;34m=\u001b[0m\u001b[0;32mNone\u001b[0m\u001b[0;34m,\u001b[0m \u001b[0mhighlight\u001b[0m\u001b[0;34m=\u001b[0m\u001b[0;34m(\u001b[0m\u001b[0;34m)\u001b[0m\u001b[0;34m,\u001b[0m \u001b[0mstream\u001b[0m\u001b[0;34m=\u001b[0m\u001b[0;32mNone\u001b[0m\u001b[0;34m,\u001b[0m \u001b[0;34m**\u001b[0m\u001b[0mkwargs\u001b[0m\u001b[0;34m)\u001b[0m\u001b[0;34m:\u001b[0m\u001b[0;34m\u001b[0m\u001b[0;34m\u001b[0m\u001b[0m\n",
            "\u001b[0;32m/usr/local/lib/python3.10/dist-packages/nltk/draw/tree.py\u001b[0m in \u001b[0;36mdraw_trees\u001b[0;34m(*trees)\u001b[0m\n\u001b[1;32m   1006\u001b[0m     \u001b[0;34m:\u001b[0m\u001b[0mrtype\u001b[0m\u001b[0;34m:\u001b[0m \u001b[0;32mNone\u001b[0m\u001b[0;34m\u001b[0m\u001b[0;34m\u001b[0m\u001b[0m\n\u001b[1;32m   1007\u001b[0m     \"\"\"\n\u001b[0;32m-> 1008\u001b[0;31m     \u001b[0mTreeView\u001b[0m\u001b[0;34m(\u001b[0m\u001b[0;34m*\u001b[0m\u001b[0mtrees\u001b[0m\u001b[0;34m)\u001b[0m\u001b[0;34m.\u001b[0m\u001b[0mmainloop\u001b[0m\u001b[0;34m(\u001b[0m\u001b[0;34m)\u001b[0m\u001b[0;34m\u001b[0m\u001b[0;34m\u001b[0m\u001b[0m\n\u001b[0m\u001b[1;32m   1009\u001b[0m     \u001b[0;32mreturn\u001b[0m\u001b[0;34m\u001b[0m\u001b[0;34m\u001b[0m\u001b[0m\n\u001b[1;32m   1010\u001b[0m \u001b[0;34m\u001b[0m\u001b[0m\n",
            "\u001b[0;32m/usr/local/lib/python3.10/dist-packages/nltk/draw/tree.py\u001b[0m in \u001b[0;36m__init__\u001b[0;34m(self, *trees)\u001b[0m\n\u001b[1;32m    857\u001b[0m         \u001b[0mself\u001b[0m\u001b[0;34m.\u001b[0m\u001b[0m_trees\u001b[0m \u001b[0;34m=\u001b[0m \u001b[0mtrees\u001b[0m\u001b[0;34m\u001b[0m\u001b[0;34m\u001b[0m\u001b[0m\n\u001b[1;32m    858\u001b[0m \u001b[0;34m\u001b[0m\u001b[0m\n\u001b[0;32m--> 859\u001b[0;31m         \u001b[0mself\u001b[0m\u001b[0;34m.\u001b[0m\u001b[0m_top\u001b[0m \u001b[0;34m=\u001b[0m \u001b[0mTk\u001b[0m\u001b[0;34m(\u001b[0m\u001b[0;34m)\u001b[0m\u001b[0;34m\u001b[0m\u001b[0;34m\u001b[0m\u001b[0m\n\u001b[0m\u001b[1;32m    860\u001b[0m         \u001b[0mself\u001b[0m\u001b[0;34m.\u001b[0m\u001b[0m_top\u001b[0m\u001b[0;34m.\u001b[0m\u001b[0mtitle\u001b[0m\u001b[0;34m(\u001b[0m\u001b[0;34m\"NLTK\"\u001b[0m\u001b[0;34m)\u001b[0m\u001b[0;34m\u001b[0m\u001b[0;34m\u001b[0m\u001b[0m\n\u001b[1;32m    861\u001b[0m         \u001b[0mself\u001b[0m\u001b[0;34m.\u001b[0m\u001b[0m_top\u001b[0m\u001b[0;34m.\u001b[0m\u001b[0mbind\u001b[0m\u001b[0;34m(\u001b[0m\u001b[0;34m\"<Control-x>\"\u001b[0m\u001b[0;34m,\u001b[0m \u001b[0mself\u001b[0m\u001b[0;34m.\u001b[0m\u001b[0mdestroy\u001b[0m\u001b[0;34m)\u001b[0m\u001b[0;34m\u001b[0m\u001b[0;34m\u001b[0m\u001b[0m\n",
            "\u001b[0;32m/usr/lib/python3.10/tkinter/__init__.py\u001b[0m in \u001b[0;36m__init__\u001b[0;34m(self, screenName, baseName, className, useTk, sync, use)\u001b[0m\n\u001b[1;32m   2297\u001b[0m                 \u001b[0mbaseName\u001b[0m \u001b[0;34m=\u001b[0m \u001b[0mbaseName\u001b[0m \u001b[0;34m+\u001b[0m \u001b[0mext\u001b[0m\u001b[0;34m\u001b[0m\u001b[0;34m\u001b[0m\u001b[0m\n\u001b[1;32m   2298\u001b[0m         \u001b[0minteractive\u001b[0m \u001b[0;34m=\u001b[0m \u001b[0;32mFalse\u001b[0m\u001b[0;34m\u001b[0m\u001b[0;34m\u001b[0m\u001b[0m\n\u001b[0;32m-> 2299\u001b[0;31m         \u001b[0mself\u001b[0m\u001b[0;34m.\u001b[0m\u001b[0mtk\u001b[0m \u001b[0;34m=\u001b[0m \u001b[0m_tkinter\u001b[0m\u001b[0;34m.\u001b[0m\u001b[0mcreate\u001b[0m\u001b[0;34m(\u001b[0m\u001b[0mscreenName\u001b[0m\u001b[0;34m,\u001b[0m \u001b[0mbaseName\u001b[0m\u001b[0;34m,\u001b[0m \u001b[0mclassName\u001b[0m\u001b[0;34m,\u001b[0m \u001b[0minteractive\u001b[0m\u001b[0;34m,\u001b[0m \u001b[0mwantobjects\u001b[0m\u001b[0;34m,\u001b[0m \u001b[0museTk\u001b[0m\u001b[0;34m,\u001b[0m \u001b[0msync\u001b[0m\u001b[0;34m,\u001b[0m \u001b[0muse\u001b[0m\u001b[0;34m)\u001b[0m\u001b[0;34m\u001b[0m\u001b[0;34m\u001b[0m\u001b[0m\n\u001b[0m\u001b[1;32m   2300\u001b[0m         \u001b[0;32mif\u001b[0m \u001b[0museTk\u001b[0m\u001b[0;34m:\u001b[0m\u001b[0;34m\u001b[0m\u001b[0;34m\u001b[0m\u001b[0m\n\u001b[1;32m   2301\u001b[0m             \u001b[0mself\u001b[0m\u001b[0;34m.\u001b[0m\u001b[0m_loadtk\u001b[0m\u001b[0;34m(\u001b[0m\u001b[0;34m)\u001b[0m\u001b[0;34m\u001b[0m\u001b[0;34m\u001b[0m\u001b[0m\n",
            "\u001b[0;31mTclError\u001b[0m: no display name and no $DISPLAY environment variable"
          ]
        }
      ],
      "source": [
        "# expect a pop up menu\n",
        "tree = Tree.fromstring(\"(S(NP I)(VP(VP (V shot) (NP (Det an) (N elephant)))(PP (P in) (NP (Det my) (N pajamas)))))\")\n",
        "tree.draw()"
      ]
    },
    {
      "cell_type": "code",
      "execution_count": 15,
      "id": "3b9ab334-4c44-42d3-b12c-9459f16ccfcd",
      "metadata": {
        "colab": {
          "base_uri": "https://localhost:8080/"
        },
        "id": "3b9ab334-4c44-42d3-b12c-9459f16ccfcd",
        "outputId": "2e0d0a74-29bd-4080-a105-98d7bbbb3c6b"
      },
      "outputs": [
        {
          "output_type": "execute_result",
          "data": {
            "text/plain": [
              "S"
            ]
          },
          "metadata": {},
          "execution_count": 15
        }
      ],
      "source": [
        "grammar.start()"
      ]
    },
    {
      "cell_type": "code",
      "execution_count": 16,
      "id": "69c2ccb3-df86-4406-85dd-b0cf4c547651",
      "metadata": {
        "colab": {
          "base_uri": "https://localhost:8080/"
        },
        "id": "69c2ccb3-df86-4406-85dd-b0cf4c547651",
        "outputId": "7fc6a752-8cd1-4d88-d04f-7c6840f20a77"
      },
      "outputs": [
        {
          "output_type": "execute_result",
          "data": {
            "text/plain": [
              "[S -> NP VP,\n",
              " PP -> P NP,\n",
              " NP -> Det N,\n",
              " NP -> NP PP,\n",
              " VP -> V NP,\n",
              " VP -> VP PP,\n",
              " Det -> 'a',\n",
              " Det -> 'the',\n",
              " N -> 'dog',\n",
              " N -> 'cat',\n",
              " V -> 'chased',\n",
              " V -> 'sat',\n",
              " P -> 'on',\n",
              " P -> 'in']"
            ]
          },
          "metadata": {},
          "execution_count": 16
        }
      ],
      "source": [
        "grammar.productions()"
      ]
    },
    {
      "cell_type": "code",
      "execution_count": 17,
      "id": "81fc63c1-1e4d-4dc3-85d4-f5c4f5d71b79",
      "metadata": {
        "id": "81fc63c1-1e4d-4dc3-85d4-f5c4f5d71b79"
      },
      "outputs": [],
      "source": [
        "grammar1 = CFG.fromstring(\"\"\"\n",
        " S -> A B\n",
        " A -> 'a'\n",
        " # An empty production:\n",
        " B -> 'b' |\n",
        " \"\"\")"
      ]
    },
    {
      "cell_type": "code",
      "execution_count": 18,
      "id": "d8efbda1-12f4-491f-8ecc-fa6898e64f81",
      "metadata": {
        "id": "d8efbda1-12f4-491f-8ecc-fa6898e64f81"
      },
      "outputs": [],
      "source": [
        "grammar2 = nltk.CFG.fromstring(\"\"\"\n",
        "  S -> NP VP\n",
        "  VP -> V NP | V NP PP\n",
        "  PP -> P NP\n",
        "  V -> \"saw\" | \"ate\" | \"walked\"\n",
        "  NP -> \"John\" | \"Mary\" | \"Bob\" | Det N | Det N PP\n",
        "  Det -> \"a\" | \"an\" | \"the\" | \"my\"\n",
        "  N -> \"man\" | \"dog\" | \"cat\" | \"telescope\" | \"park\"\n",
        "  P -> \"in\" | \"on\" | \"by\" | \"with\"\n",
        "  \"\"\")"
      ]
    },
    {
      "cell_type": "code",
      "execution_count": null,
      "id": "7ae9e656-bc3e-49af-ba05-2d68163173a5",
      "metadata": {
        "id": "7ae9e656-bc3e-49af-ba05-2d68163173a5"
      },
      "outputs": [],
      "source": []
    },
    {
      "cell_type": "code",
      "execution_count": 19,
      "id": "ff038a5c-7106-409e-9d39-d85e5770e4cc",
      "metadata": {
        "colab": {
          "base_uri": "https://localhost:8080/"
        },
        "id": "ff038a5c-7106-409e-9d39-d85e5770e4cc",
        "outputId": "d969b709-2e9c-47f4-c312-fd21d29bed1f"
      },
      "outputs": [
        {
          "output_type": "stream",
          "name": "stdout",
          "text": [
            "(S (NP Mary) (VP (V saw) (NP Bob)))\n"
          ]
        }
      ],
      "source": [
        "sent = \"Mary saw Bob\".split()\n",
        "rd_parser = nltk.RecursiveDescentParser(grammar2)\n",
        "for tree in rd_parser.parse(sent):\n",
        "     print(tree)"
      ]
    },
    {
      "cell_type": "code",
      "execution_count": 20,
      "id": "34b3c7d0-ffe8-4a43-bb64-ab9291f1a376",
      "metadata": {
        "colab": {
          "base_uri": "https://localhost:8080/",
          "height": 287
        },
        "id": "34b3c7d0-ffe8-4a43-bb64-ab9291f1a376",
        "outputId": "f72142c9-61a7-419b-8b49-2e77dd513e73"
      },
      "outputs": [
        {
          "output_type": "error",
          "ename": "TclError",
          "evalue": "no display name and no $DISPLAY environment variable",
          "traceback": [
            "\u001b[0;31m---------------------------------------------------------------------------\u001b[0m",
            "\u001b[0;31mTclError\u001b[0m                                  Traceback (most recent call last)",
            "\u001b[0;32m<ipython-input-20-1f23b2c5bf9c>\u001b[0m in \u001b[0;36m<cell line: 1>\u001b[0;34m()\u001b[0m\n\u001b[0;32m----> 1\u001b[0;31m \u001b[0mnltk\u001b[0m\u001b[0;34m.\u001b[0m\u001b[0mapp\u001b[0m\u001b[0;34m.\u001b[0m\u001b[0mrdparser\u001b[0m\u001b[0;34m(\u001b[0m\u001b[0;34m)\u001b[0m\u001b[0;34m\u001b[0m\u001b[0;34m\u001b[0m\u001b[0m\n\u001b[0m",
            "\u001b[0;32m/usr/local/lib/python3.10/dist-packages/nltk/app/rdparser_app.py\u001b[0m in \u001b[0;36mapp\u001b[0;34m()\u001b[0m\n\u001b[1;32m   1044\u001b[0m     \u001b[0msent\u001b[0m \u001b[0;34m=\u001b[0m \u001b[0;34m\"the dog saw a man in the park\"\u001b[0m\u001b[0;34m.\u001b[0m\u001b[0msplit\u001b[0m\u001b[0;34m(\u001b[0m\u001b[0;34m)\u001b[0m\u001b[0;34m\u001b[0m\u001b[0;34m\u001b[0m\u001b[0m\n\u001b[1;32m   1045\u001b[0m \u001b[0;34m\u001b[0m\u001b[0m\n\u001b[0;32m-> 1046\u001b[0;31m     \u001b[0mRecursiveDescentApp\u001b[0m\u001b[0;34m(\u001b[0m\u001b[0mgrammar\u001b[0m\u001b[0;34m,\u001b[0m \u001b[0msent\u001b[0m\u001b[0;34m)\u001b[0m\u001b[0;34m.\u001b[0m\u001b[0mmainloop\u001b[0m\u001b[0;34m(\u001b[0m\u001b[0;34m)\u001b[0m\u001b[0;34m\u001b[0m\u001b[0;34m\u001b[0m\u001b[0m\n\u001b[0m\u001b[1;32m   1047\u001b[0m \u001b[0;34m\u001b[0m\u001b[0m\n\u001b[1;32m   1048\u001b[0m \u001b[0;34m\u001b[0m\u001b[0m\n",
            "\u001b[0;32m/usr/local/lib/python3.10/dist-packages/nltk/app/rdparser_app.py\u001b[0m in \u001b[0;36m__init__\u001b[0;34m(self, grammar, sent, trace)\u001b[0m\n\u001b[1;32m     91\u001b[0m \u001b[0;34m\u001b[0m\u001b[0m\n\u001b[1;32m     92\u001b[0m         \u001b[0;31m# Set up the main window.\u001b[0m\u001b[0;34m\u001b[0m\u001b[0;34m\u001b[0m\u001b[0m\n\u001b[0;32m---> 93\u001b[0;31m         \u001b[0mself\u001b[0m\u001b[0;34m.\u001b[0m\u001b[0m_top\u001b[0m \u001b[0;34m=\u001b[0m \u001b[0mTk\u001b[0m\u001b[0;34m(\u001b[0m\u001b[0;34m)\u001b[0m\u001b[0;34m\u001b[0m\u001b[0;34m\u001b[0m\u001b[0m\n\u001b[0m\u001b[1;32m     94\u001b[0m         \u001b[0mself\u001b[0m\u001b[0;34m.\u001b[0m\u001b[0m_top\u001b[0m\u001b[0;34m.\u001b[0m\u001b[0mtitle\u001b[0m\u001b[0;34m(\u001b[0m\u001b[0;34m\"Recursive Descent Parser Application\"\u001b[0m\u001b[0;34m)\u001b[0m\u001b[0;34m\u001b[0m\u001b[0;34m\u001b[0m\u001b[0m\n\u001b[1;32m     95\u001b[0m \u001b[0;34m\u001b[0m\u001b[0m\n",
            "\u001b[0;32m/usr/lib/python3.10/tkinter/__init__.py\u001b[0m in \u001b[0;36m__init__\u001b[0;34m(self, screenName, baseName, className, useTk, sync, use)\u001b[0m\n\u001b[1;32m   2297\u001b[0m                 \u001b[0mbaseName\u001b[0m \u001b[0;34m=\u001b[0m \u001b[0mbaseName\u001b[0m \u001b[0;34m+\u001b[0m \u001b[0mext\u001b[0m\u001b[0;34m\u001b[0m\u001b[0;34m\u001b[0m\u001b[0m\n\u001b[1;32m   2298\u001b[0m         \u001b[0minteractive\u001b[0m \u001b[0;34m=\u001b[0m \u001b[0;32mFalse\u001b[0m\u001b[0;34m\u001b[0m\u001b[0;34m\u001b[0m\u001b[0m\n\u001b[0;32m-> 2299\u001b[0;31m         \u001b[0mself\u001b[0m\u001b[0;34m.\u001b[0m\u001b[0mtk\u001b[0m \u001b[0;34m=\u001b[0m \u001b[0m_tkinter\u001b[0m\u001b[0;34m.\u001b[0m\u001b[0mcreate\u001b[0m\u001b[0;34m(\u001b[0m\u001b[0mscreenName\u001b[0m\u001b[0;34m,\u001b[0m \u001b[0mbaseName\u001b[0m\u001b[0;34m,\u001b[0m \u001b[0mclassName\u001b[0m\u001b[0;34m,\u001b[0m \u001b[0minteractive\u001b[0m\u001b[0;34m,\u001b[0m \u001b[0mwantobjects\u001b[0m\u001b[0;34m,\u001b[0m \u001b[0museTk\u001b[0m\u001b[0;34m,\u001b[0m \u001b[0msync\u001b[0m\u001b[0;34m,\u001b[0m \u001b[0muse\u001b[0m\u001b[0;34m)\u001b[0m\u001b[0;34m\u001b[0m\u001b[0;34m\u001b[0m\u001b[0m\n\u001b[0m\u001b[1;32m   2300\u001b[0m         \u001b[0;32mif\u001b[0m \u001b[0museTk\u001b[0m\u001b[0;34m:\u001b[0m\u001b[0;34m\u001b[0m\u001b[0;34m\u001b[0m\u001b[0m\n\u001b[1;32m   2301\u001b[0m             \u001b[0mself\u001b[0m\u001b[0;34m.\u001b[0m\u001b[0m_loadtk\u001b[0m\u001b[0;34m(\u001b[0m\u001b[0;34m)\u001b[0m\u001b[0;34m\u001b[0m\u001b[0;34m\u001b[0m\u001b[0m\n",
            "\u001b[0;31mTclError\u001b[0m: no display name and no $DISPLAY environment variable"
          ]
        }
      ],
      "source": [
        "nltk.app.rdparser()"
      ]
    },
    {
      "cell_type": "code",
      "execution_count": null,
      "id": "f511707d-2e19-40d4-91a6-ba88468a2a96",
      "metadata": {
        "id": "f511707d-2e19-40d4-91a6-ba88468a2a96",
        "outputId": "071eaffb-c5a6-499d-c92b-cbe80e07290c"
      },
      "outputs": [
        {
          "ename": "IndentationError",
          "evalue": "unexpected indent (4101656971.py, line 2)",
          "output_type": "error",
          "traceback": [
            "\u001b[1;36m  Cell \u001b[1;32mIn[32], line 2\u001b[1;36m\u001b[0m\n\u001b[1;33m    sent = \"Mary saw Bob\".split()\u001b[0m\n\u001b[1;37m    ^\u001b[0m\n\u001b[1;31mIndentationError\u001b[0m\u001b[1;31m:\u001b[0m unexpected indent\n"
          ]
        }
      ],
      "source": [
        "grammar3 = nltk.data.load('file:mygrammar.cfg')\n",
        " sent = \"Mary saw Bob\".split()\n",
        " rd_parser = nltk.RecursiveDescentParser(grammar1)\n",
        " for tree in rd_parser.parse(sent):\n",
        "      print(tree)  # new york not allowed new_york  pp--> of | NP not allowed"
      ]
    },
    {
      "cell_type": "code",
      "execution_count": null,
      "id": "279989ee-03db-4413-aded-2354bdb98aeb",
      "metadata": {
        "id": "279989ee-03db-4413-aded-2354bdb98aeb",
        "outputId": "95a24284-d13a-4e23-ec1b-8eaa48b58fe1"
      },
      "outputs": [
        {
          "name": "stdout",
          "output_type": "stream",
          "text": [
            "(S (NP Mary) (VP (V saw) (NP (Det a) (N dog))))\n"
          ]
        }
      ],
      "source": [
        "sr_parser = nltk.ShiftReduceParser(grammar2)\n",
        "sent = 'Mary saw a dog'.split()\n",
        "for tree in sr_parser.parse(sent):\n",
        "    print(tree)\n",
        ""
      ]
    },
    {
      "cell_type": "code",
      "execution_count": null,
      "id": "97dcce49-e79f-4746-8a4b-afb5b452c8de",
      "metadata": {
        "id": "97dcce49-e79f-4746-8a4b-afb5b452c8de",
        "outputId": "b9f15ee3-7b6a-4ca1-ec97-52f0ed4b6bae"
      },
      "outputs": [
        {
          "name": "stdout",
          "output_type": "stream",
          "text": [
            "(S (NP Mary) (VP (V saw) (NP (Det a) (N dog))))\n"
          ]
        }
      ],
      "source": [
        "sr_parse = nltk.ShiftReduceParser(grammar2, trace=3)\n",
        "sent = 'Mary saw a dog'.split()\n",
        "for tree in sr_parser.parse(sent):\n",
        "     print(tree)"
      ]
    },
    {
      "cell_type": "code",
      "execution_count": null,
      "id": "a10db431-77c9-4547-8cb3-dd99e8cbad2d",
      "metadata": {
        "id": "a10db431-77c9-4547-8cb3-dd99e8cbad2d",
        "outputId": "478d8ebf-20b1-420d-ebca-34f35f208988"
      },
      "outputs": [
        {
          "name": "stdout",
          "output_type": "stream",
          "text": [
            "grammar= (\n",
            "('    ', 'S -> NP VP,')\n",
            "('    ', 'VP -> VP PP,')\n",
            "('    ', 'VP -> V NP,')\n",
            "('    ', 'VP -> V,')\n",
            "('    ', 'NP -> Det N,')\n",
            "('    ', 'NP -> NP PP,')\n",
            "('    ', 'PP -> P NP,')\n",
            "('    ', \"NP -> 'John',\")\n",
            "('    ', \"NP -> 'I',\")\n",
            "('    ', \"Det -> 'the',\")\n",
            "('    ', \"Det -> 'my',\")\n",
            "('    ', \"Det -> 'a',\")\n",
            "('    ', \"N -> 'dog',\")\n",
            "('    ', \"N -> 'cookie',\")\n",
            "('    ', \"N -> 'table',\")\n",
            "('    ', \"N -> 'cake',\")\n",
            "('    ', \"N -> 'fork',\")\n",
            "('    ', \"V -> 'ate',\")\n",
            "('    ', \"V -> 'saw',\")\n",
            "('    ', \"P -> 'on',\")\n",
            "('    ', \"P -> 'under',\")\n",
            "('    ', \"P -> 'with',\")\n",
            ")\n",
            "tokens = ['John', 'ate', 'the', 'cake', 'on', 'the', 'table']\n",
            "Calling \"ChartParserApp(grammar, tokens)\"...\n",
            "[('under',)]\n",
            "[('with',)]\n",
            "[('on',)]\n",
            "[('under',), ('with',)]\n",
            "[('ate',)]\n",
            "[('saw',)]\n",
            "[('cake',)]\n",
            "[('fork',)]\n",
            "[('table',)]\n",
            "[('cake',), ('fork',)]\n",
            "[('cookie',)]\n",
            "[('table',), ('cake',), ('fork',)]\n",
            "[('dog',)]\n",
            "[('cookie',), ('table',), ('cake',), ('fork',)]\n",
            "[('my',)]\n",
            "[('a',)]\n",
            "[('the',)]\n",
            "[('my',), ('a',)]\n",
            "[('John',)]\n",
            "[('I',)]\n",
            "[(Det, N)]\n",
            "[(NP, PP)]\n",
            "[(V, NP)]\n",
            "[(V,)]\n",
            "[(VP, PP)]\n",
            "[(V, NP), (V,)]\n",
            "S [(NP, VP)]\n",
            "VP [(VP, PP), (V, NP), (V,)]\n",
            "NP [(Det, N), (NP, PP)]\n",
            "PP [(P, NP)]\n",
            "NP [('John',), ('I',)]\n",
            "Det [('the',), ('my',), ('a',)]\n",
            "N [('dog',), ('cookie',), ('table',), ('cake',), ('fork',)]\n",
            "V [('ate',), ('saw',)]\n",
            "P [('on',), ('under',), ('with',)]\n"
          ]
        }
      ],
      "source": [
        "nltk.app.chartparser()"
      ]
    },
    {
      "cell_type": "code",
      "execution_count": null,
      "id": "729ad94a-4415-4ad6-bffb-6665dadf0818",
      "metadata": {
        "id": "729ad94a-4415-4ad6-bffb-6665dadf0818"
      },
      "outputs": [],
      "source": []
    }
  ],
  "metadata": {
    "kernelspec": {
      "display_name": "Python 3 (ipykernel)",
      "language": "python",
      "name": "python3"
    },
    "language_info": {
      "codemirror_mode": {
        "name": "ipython",
        "version": 3
      },
      "file_extension": ".py",
      "mimetype": "text/x-python",
      "name": "python",
      "nbconvert_exporter": "python",
      "pygments_lexer": "ipython3",
      "version": "3.11.7"
    },
    "colab": {
      "provenance": [],
      "include_colab_link": true
    }
  },
  "nbformat": 4,
  "nbformat_minor": 5
}